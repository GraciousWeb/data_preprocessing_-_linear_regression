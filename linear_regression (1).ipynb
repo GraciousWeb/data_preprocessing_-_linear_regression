{
 "cells": [
  {
   "cell_type": "markdown",
   "metadata": {
    "id": "aLXsIQ7ROlV2"
   },
   "source": [
    "# Importing necessary libraries"
   ]
  },
  {
   "cell_type": "code",
   "execution_count": 1,
   "metadata": {
    "executionInfo": {
     "elapsed": 10807,
     "status": "ok",
     "timestamp": 1738897891944,
     "user": {
      "displayName": "Grace Onuoha",
      "userId": "15835770623955301396"
     },
     "user_tz": -60
    },
    "id": "hjyh_byGZo2l"
   },
   "outputs": [],
   "source": [
    "import numpy as np\n",
    "import pandas as pd\n",
    "from sklearn.compose import ColumnTransformer\n",
    "from sklearn.preprocessing import OneHotEncoder\n",
    "from sklearn.model_selection import train_test_split\n",
    "from sklearn.preprocessing import StandardScaler\n",
    "from sklearn.impute import SimpleImputer\n",
    "from sklearn.linear_model import LinearRegression\n",
    "from matplotlib import pyplot as plt"
   ]
  },
  {
   "cell_type": "markdown",
   "metadata": {
    "id": "IvwyOyKGOjml"
   },
   "source": [
    "# Importing the dataset"
   ]
  },
  {
   "cell_type": "code",
   "execution_count": 3,
   "metadata": {
    "executionInfo": {
     "elapsed": 44,
     "status": "ok",
     "timestamp": 1738897977315,
     "user": {
      "displayName": "Grace Onuoha",
      "userId": "15835770623955301396"
     },
     "user_tz": -60
    },
    "id": "kuvnTCuWfsXu"
   },
   "outputs": [],
   "source": [
    "dataset = pd.read_csv(\"Salary Data.csv\")"
   ]
  },
  {
   "cell_type": "code",
   "execution_count": null,
   "metadata": {
    "colab": {
     "base_uri": "https://localhost:8080/"
    },
    "collapsed": true,
    "executionInfo": {
     "elapsed": 30,
     "status": "ok",
     "timestamp": 1738894179927,
     "user": {
      "displayName": "Grace Onuoha",
      "userId": "15835770623955301396"
     },
     "user_tz": -60
    },
    "id": "_8b4jIasf6eV",
    "outputId": "708be010-75f6-4320-f872-fe5f4be75c3f"
   },
   "outputs": [
    {
     "name": "stdout",
     "output_type": "stream",
     "text": [
      "      Age  Gender Education Level                      Job Title  \\\n",
      "0    32.0    Male      Bachelor's              Software Engineer   \n",
      "1    28.0  Female        Master's                   Data Analyst   \n",
      "2    45.0    Male             PhD                 Senior Manager   \n",
      "3    36.0  Female      Bachelor's                Sales Associate   \n",
      "4    52.0    Male        Master's                       Director   \n",
      "..    ...     ...             ...                            ...   \n",
      "370  35.0  Female      Bachelor's       Senior Marketing Analyst   \n",
      "371  43.0    Male        Master's         Director of Operations   \n",
      "372  29.0  Female      Bachelor's         Junior Project Manager   \n",
      "373  34.0    Male      Bachelor's  Senior Operations Coordinator   \n",
      "374  44.0  Female             PhD        Senior Business Analyst   \n",
      "\n",
      "     Years of Experience    Salary  \n",
      "0                    5.0   90000.0  \n",
      "1                    3.0   65000.0  \n",
      "2                   15.0  150000.0  \n",
      "3                    7.0   60000.0  \n",
      "4                   20.0  200000.0  \n",
      "..                   ...       ...  \n",
      "370                  8.0   85000.0  \n",
      "371                 19.0  170000.0  \n",
      "372                  2.0   40000.0  \n",
      "373                  7.0   90000.0  \n",
      "374                 15.0  150000.0  \n",
      "\n",
      "[375 rows x 6 columns]\n"
     ]
    }
   ],
   "source": [
    "print(dataset)"
   ]
  },
  {
   "cell_type": "markdown",
   "metadata": {
    "id": "eMYVmevwO2x6"
   },
   "source": [
    "# Separating into features and target (Dependent and Independent variables)"
   ]
  },
  {
   "cell_type": "code",
   "execution_count": 4,
   "metadata": {
    "executionInfo": {
     "elapsed": 14,
     "status": "ok",
     "timestamp": 1738897980204,
     "user": {
      "displayName": "Grace Onuoha",
      "userId": "15835770623955301396"
     },
     "user_tz": -60
    },
    "id": "46WC07sAgIfQ"
   },
   "outputs": [],
   "source": [
    "X = dataset.iloc[:, : - 1].values\n",
    "y = dataset.iloc[:, -1].values\n"
   ]
  },
  {
   "cell_type": "code",
   "execution_count": null,
   "metadata": {
    "colab": {
     "base_uri": "https://localhost:8080/"
    },
    "collapsed": true,
    "executionInfo": {
     "elapsed": 35,
     "status": "ok",
     "timestamp": 1738893158562,
     "user": {
      "displayName": "Grace Onuoha",
      "userId": "15835770623955301396"
     },
     "user_tz": -60
    },
    "id": "8E-LX_d2mCiD",
    "outputId": "57301357-7164-4cc1-93fb-45557366113a"
   },
   "outputs": [
    {
     "name": "stdout",
     "output_type": "stream",
     "text": [
      "[[32.0 'Male' \"Bachelor's\" 'Software Engineer' 5.0]\n",
      " [28.0 'Female' \"Master's\" 'Data Analyst' 3.0]\n",
      " [45.0 'Male' 'PhD' 'Senior Manager' 15.0]\n",
      " ...\n",
      " [29.0 'Female' \"Bachelor's\" 'Junior Project Manager' 2.0]\n",
      " [34.0 'Male' \"Bachelor's\" 'Senior Operations Coordinator' 7.0]\n",
      " [44.0 'Female' 'PhD' 'Senior Business Analyst' 15.0]]\n",
      "[ 90000.  65000. 150000.  60000. 200000.  55000. 120000.  80000.  45000.\n",
      " 110000.  75000. 140000.  65000. 130000.  40000. 125000.  90000. 115000.\n",
      "  35000. 180000.  80000. 190000.  50000.  60000. 140000.  45000. 110000.\n",
      "  40000. 140000.  90000. 250000.  55000.  75000.  65000. 170000.  45000.\n",
      "  60000. 115000.  40000. 160000.  80000. 190000.  60000.  45000. 130000.\n",
      "  40000.  75000. 180000. 120000.  35000. 130000.  85000.  60000. 200000.\n",
      "  50000.  95000.  65000. 140000.  55000. 105000. 170000.  50000.  80000.\n",
      " 180000.  35000.  90000. 120000.  45000.  90000. 150000.  65000.  70000.\n",
      " 190000.  40000. 120000.  95000. 160000. 100000. 180000.  55000.  70000.\n",
      "  80000.  30000. 250000.  40000.  95000.  45000.  80000. 135000.  55000.\n",
      " 120000.  40000. 105000. 170000.  75000.  65000. 160000.  35000.  90000.\n",
      " 110000.  45000.  95000. 150000.  50000.  80000. 220000.  50000.  60000.\n",
      " 100000.  40000. 110000.  95000. 130000.  90000.  35000.  95000.  65000.\n",
      " 170000.  45000. 120000. 100000. 180000.  50000.  80000. 140000.  40000.\n",
      "  95000. 110000.  50000. 105000. 160000.  45000. 100000. 160000.  35000.\n",
      "  55000. 140000.  50000.  60000. 120000.  40000. 110000.  50000. 135000.\n",
      "  40000.  90000. 150000.  60000.  80000. 175000.  45000. 120000. 140000.\n",
      "  35000.  95000. 110000.  50000. 115000. 185000.  40000.  90000. 175000.\n",
      "  45000.  80000. 120000.  35000. 110000. 150000.  50000. 105000. 180000.\n",
      "  40000.     nan 140000.  45000.  85000. 140000.  50000.  80000. 170000.\n",
      "  40000. 105000. 145000.  40000.  85000. 130000.  95000. 100000. 180000.\n",
      "  35000.  95000. 170000.  45000.  95000. 120000.  40000.  90000. 155000.\n",
      "  55000. 110000. 180000.  45000. 130000.  45000.  90000. 160000.  50000.\n",
      " 120000. 170000.  40000. 110000. 150000.  40000.  85000. 130000. 100000.\n",
      "  95000. 180000.  35000. 100000. 170000.  45000. 100000. 140000.  40000.\n",
      " 105000. 160000.  70000. 120000. 190000.  45000. 120000.  50000.  85000.\n",
      " 140000.  45000. 100000. 140000.  70000. 120000. 160000.  40000. 120000.\n",
      " 150000.  70000.  95000. 180000.  50000.  95000. 170000.  40000. 110000.\n",
      " 150000.  40000.  85000. 130000. 100000.  95000. 180000.    350.     nan\n",
      " 120000. 160000.  50000. 110000.  40000.  95000. 140000.  60000. 110000.\n",
      " 150000.  60000.  90000. 180000.  40000. 120000. 160000.  70000.  95000.\n",
      " 180000.  50000.  95000. 170000.  35000. 100000. 150000.  60000.  85000.\n",
      " 130000.  65000. 110000. 180000.  40000.  90000. 140000.  60000. 130000.\n",
      " 160000.  40000. 100000. 180000.  55000. 120000. 150000.  70000.  95000.\n",
      " 180000.  50000. 120000. 170000.  35000. 100000. 150000.  60000.  85000.\n",
      " 130000.  80000.  95000.  40000. 120000. 160000.  65000. 130000. 180000.\n",
      "  40000. 100000. 150000.  55000. 110000. 180000.  50000. 130000. 160000.\n",
      "  60000.  95000. 170000.  40000.  90000. 150000.  70000.  90000. 170000.\n",
      "  50000. 150000. 160000.  60000.  85000. 180000.  35000. 110000. 160000.\n",
      "  55000. 110000. 180000.  50000. 130000. 160000.  60000.  95000. 170000.\n",
      "  40000.  90000. 150000.  70000.  90000. 170000.  50000. 150000. 160000.\n",
      "  60000.  85000. 170000.  40000.  90000. 150000.]\n"
     ]
    }
   ],
   "source": [
    "print(X)\n",
    "print(y)"
   ]
  },
  {
   "cell_type": "markdown",
   "metadata": {
    "id": "UijLXQtdOhlJ"
   },
   "source": [
    "# Handling missing data"
   ]
  },
  {
   "cell_type": "markdown",
   "metadata": {
    "id": "rsRZao1zPTHg"
   },
   "source": [
    "Missing data on columns containing numerical values"
   ]
  },
  {
   "cell_type": "code",
   "execution_count": 5,
   "metadata": {
    "executionInfo": {
     "elapsed": 3,
     "status": "ok",
     "timestamp": 1738897982839,
     "user": {
      "displayName": "Grace Onuoha",
      "userId": "15835770623955301396"
     },
     "user_tz": -60
    },
    "id": "oIkbHqER7onw"
   },
   "outputs": [],
   "source": [
    "num_imputer = SimpleImputer(missing_values=np.nan, strategy='mean')\n",
    "X[:, [0, 4]] = num_imputer.fit_transform(X[:, [0, 4]])"
   ]
  },
  {
   "cell_type": "code",
   "execution_count": null,
   "metadata": {
    "colab": {
     "base_uri": "https://localhost:8080/"
    },
    "executionInfo": {
     "elapsed": 8,
     "status": "ok",
     "timestamp": 1738893158595,
     "user": {
      "displayName": "Grace Onuoha",
      "userId": "15835770623955301396"
     },
     "user_tz": -60
    },
    "id": "wfsdu-0MBTSA",
    "outputId": "c56fa7f2-5864-4b34-f549-9f52fc4683fc"
   },
   "outputs": [
    {
     "name": "stdout",
     "output_type": "stream",
     "text": [
      "[[32.0 'Male' \"Bachelor's\" 'Software Engineer' 5.0]\n",
      " [28.0 'Female' \"Master's\" 'Data Analyst' 3.0]\n",
      " [45.0 'Male' 'PhD' 'Senior Manager' 15.0]\n",
      " ...\n",
      " [29.0 'Female' \"Bachelor's\" 'Junior Project Manager' 2.0]\n",
      " [34.0 'Male' \"Bachelor's\" 'Senior Operations Coordinator' 7.0]\n",
      " [44.0 'Female' 'PhD' 'Senior Business Analyst' 15.0]]\n"
     ]
    }
   ],
   "source": [
    "print(X)"
   ]
  },
  {
   "cell_type": "markdown",
   "metadata": {
    "id": "C_mOBMwrPw_8"
   },
   "source": [
    "Missing data on columns containing categorical values"
   ]
  },
  {
   "cell_type": "code",
   "execution_count": 6,
   "metadata": {
    "executionInfo": {
     "elapsed": 11,
     "status": "ok",
     "timestamp": 1738897985420,
     "user": {
      "displayName": "Grace Onuoha",
      "userId": "15835770623955301396"
     },
     "user_tz": -60
    },
    "id": "eeRtUP_kCdQR"
   },
   "outputs": [],
   "source": [
    "categorical_indices = [1, 2, 3]\n",
    "cat_imputer = SimpleImputer(strategy='most_frequent')\n",
    "X[:, categorical_indices] = cat_imputer.fit_transform(X[:, categorical_indices])"
   ]
  },
  {
   "cell_type": "code",
   "execution_count": null,
   "metadata": {
    "colab": {
     "base_uri": "https://localhost:8080/"
    },
    "executionInfo": {
     "elapsed": 31,
     "status": "ok",
     "timestamp": 1738893158647,
     "user": {
      "displayName": "Grace Onuoha",
      "userId": "15835770623955301396"
     },
     "user_tz": -60
    },
    "id": "_ieKQ1QzC6P9",
    "outputId": "48eb29e0-a7f3-4669-a166-75a64a984d4f"
   },
   "outputs": [
    {
     "name": "stdout",
     "output_type": "stream",
     "text": [
      "[[32.0 'Male' \"Bachelor's\" 'Software Engineer' 5.0]\n",
      " [28.0 'Female' \"Master's\" 'Data Analyst' 3.0]\n",
      " [45.0 'Male' 'PhD' 'Senior Manager' 15.0]\n",
      " ...\n",
      " [29.0 'Female' \"Bachelor's\" 'Junior Project Manager' 2.0]\n",
      " [34.0 'Male' \"Bachelor's\" 'Senior Operations Coordinator' 7.0]\n",
      " [44.0 'Female' 'PhD' 'Senior Business Analyst' 15.0]]\n"
     ]
    }
   ],
   "source": [
    "print(X)"
   ]
  },
  {
   "cell_type": "markdown",
   "metadata": {
    "id": "7VSyL1p7P9JQ"
   },
   "source": [
    "# Encoding categorical values"
   ]
  },
  {
   "cell_type": "code",
   "execution_count": 7,
   "metadata": {
    "collapsed": true,
    "executionInfo": {
     "elapsed": 28,
     "status": "ok",
     "timestamp": 1738897990538,
     "user": {
      "displayName": "Grace Onuoha",
      "userId": "15835770623955301396"
     },
     "user_tz": -60
    },
    "id": "C9TOgl5khr0s"
   },
   "outputs": [],
   "source": [
    "ct = ColumnTransformer(transformers=[('encoder', OneHotEncoder(sparse_output=False), categorical_indices)], remainder='passthrough')\n"
   ]
  },
  {
   "cell_type": "code",
   "execution_count": 8,
   "metadata": {
    "executionInfo": {
     "elapsed": 17,
     "status": "ok",
     "timestamp": 1738897992356,
     "user": {
      "displayName": "Grace Onuoha",
      "userId": "15835770623955301396"
     },
     "user_tz": -60
    },
    "id": "-2pY7YRcqYZS"
   },
   "outputs": [],
   "source": [
    "X = ct.fit_transform(X)\n"
   ]
  },
  {
   "cell_type": "code",
   "execution_count": null,
   "metadata": {
    "colab": {
     "base_uri": "https://localhost:8080/"
    },
    "executionInfo": {
     "elapsed": 46,
     "status": "ok",
     "timestamp": 1738893158731,
     "user": {
      "displayName": "Grace Onuoha",
      "userId": "15835770623955301396"
     },
     "user_tz": -60
    },
    "id": "B_wlwHVtlys4",
    "outputId": "9d5c0090-e540-4a20-8633-13c3b6b8f0a6"
   },
   "outputs": [
    {
     "name": "stdout",
     "output_type": "stream",
     "text": [
      "[[0.0 1.0 1.0 ... 0.0 32.0 5.0]\n",
      " [1.0 0.0 0.0 ... 0.0 28.0 3.0]\n",
      " [0.0 1.0 0.0 ... 0.0 45.0 15.0]\n",
      " ...\n",
      " [1.0 0.0 1.0 ... 0.0 29.0 2.0]\n",
      " [0.0 1.0 1.0 ... 0.0 34.0 7.0]\n",
      " [1.0 0.0 0.0 ... 0.0 44.0 15.0]]\n"
     ]
    }
   ],
   "source": [
    "print(X)"
   ]
  },
  {
   "cell_type": "markdown",
   "metadata": {
    "id": "ppgQboS3QM-c"
   },
   "source": [
    "Handling missing data on target variable"
   ]
  },
  {
   "cell_type": "code",
   "execution_count": 9,
   "metadata": {
    "executionInfo": {
     "elapsed": 8,
     "status": "ok",
     "timestamp": 1738897994891,
     "user": {
      "displayName": "Grace Onuoha",
      "userId": "15835770623955301396"
     },
     "user_tz": -60
    },
    "id": "Je27pBXPGt9M"
   },
   "outputs": [],
   "source": [
    "y_imputer = SimpleImputer(missing_values=np.nan, strategy='mean')\n",
    "y = y_imputer.fit_transform(y.reshape(-1, 1)).flatten()"
   ]
  },
  {
   "cell_type": "code",
   "execution_count": null,
   "metadata": {
    "id": "8l2ZpJ8CNzv8"
   },
   "outputs": [],
   "source": [
    "print(y)"
   ]
  },
  {
   "cell_type": "markdown",
   "metadata": {
    "id": "w4vv61p3QVcz"
   },
   "source": [
    "# Separating into training and testing sets"
   ]
  },
  {
   "cell_type": "code",
   "execution_count": 10,
   "metadata": {
    "executionInfo": {
     "elapsed": 7,
     "status": "ok",
     "timestamp": 1738897996393,
     "user": {
      "displayName": "Grace Onuoha",
      "userId": "15835770623955301396"
     },
     "user_tz": -60
    },
    "id": "VBce95pykf51"
   },
   "outputs": [],
   "source": [
    "X_train, X_test, y_train, y_test = train_test_split(X, y, test_size=0.2, random_state=0)\n"
   ]
  },
  {
   "cell_type": "markdown",
   "metadata": {
    "id": "MNGZyYabQbC4"
   },
   "source": [
    "# Training Simple Linear Regression model on the training set"
   ]
  },
  {
   "cell_type": "code",
   "execution_count": 11,
   "metadata": {
    "colab": {
     "base_uri": "https://localhost:8080/",
     "height": 80
    },
    "executionInfo": {
     "elapsed": 160,
     "status": "ok",
     "timestamp": 1738897997922,
     "user": {
      "displayName": "Grace Onuoha",
      "userId": "15835770623955301396"
     },
     "user_tz": -60
    },
    "id": "BVB3oHjkOUK5",
    "outputId": "c4859e08-af83-4dc9-a694-a4f89188bd25"
   },
   "outputs": [
    {
     "data": {
      "text/html": [
       "<style>#sk-container-id-1 {\n",
       "  /* Definition of color scheme common for light and dark mode */\n",
       "  --sklearn-color-text: #000;\n",
       "  --sklearn-color-text-muted: #666;\n",
       "  --sklearn-color-line: gray;\n",
       "  /* Definition of color scheme for unfitted estimators */\n",
       "  --sklearn-color-unfitted-level-0: #fff5e6;\n",
       "  --sklearn-color-unfitted-level-1: #f6e4d2;\n",
       "  --sklearn-color-unfitted-level-2: #ffe0b3;\n",
       "  --sklearn-color-unfitted-level-3: chocolate;\n",
       "  /* Definition of color scheme for fitted estimators */\n",
       "  --sklearn-color-fitted-level-0: #f0f8ff;\n",
       "  --sklearn-color-fitted-level-1: #d4ebff;\n",
       "  --sklearn-color-fitted-level-2: #b3dbfd;\n",
       "  --sklearn-color-fitted-level-3: cornflowerblue;\n",
       "\n",
       "  /* Specific color for light theme */\n",
       "  --sklearn-color-text-on-default-background: var(--sg-text-color, var(--theme-code-foreground, var(--jp-content-font-color1, black)));\n",
       "  --sklearn-color-background: var(--sg-background-color, var(--theme-background, var(--jp-layout-color0, white)));\n",
       "  --sklearn-color-border-box: var(--sg-text-color, var(--theme-code-foreground, var(--jp-content-font-color1, black)));\n",
       "  --sklearn-color-icon: #696969;\n",
       "\n",
       "  @media (prefers-color-scheme: dark) {\n",
       "    /* Redefinition of color scheme for dark theme */\n",
       "    --sklearn-color-text-on-default-background: var(--sg-text-color, var(--theme-code-foreground, var(--jp-content-font-color1, white)));\n",
       "    --sklearn-color-background: var(--sg-background-color, var(--theme-background, var(--jp-layout-color0, #111)));\n",
       "    --sklearn-color-border-box: var(--sg-text-color, var(--theme-code-foreground, var(--jp-content-font-color1, white)));\n",
       "    --sklearn-color-icon: #878787;\n",
       "  }\n",
       "}\n",
       "\n",
       "#sk-container-id-1 {\n",
       "  color: var(--sklearn-color-text);\n",
       "}\n",
       "\n",
       "#sk-container-id-1 pre {\n",
       "  padding: 0;\n",
       "}\n",
       "\n",
       "#sk-container-id-1 input.sk-hidden--visually {\n",
       "  border: 0;\n",
       "  clip: rect(1px 1px 1px 1px);\n",
       "  clip: rect(1px, 1px, 1px, 1px);\n",
       "  height: 1px;\n",
       "  margin: -1px;\n",
       "  overflow: hidden;\n",
       "  padding: 0;\n",
       "  position: absolute;\n",
       "  width: 1px;\n",
       "}\n",
       "\n",
       "#sk-container-id-1 div.sk-dashed-wrapped {\n",
       "  border: 1px dashed var(--sklearn-color-line);\n",
       "  margin: 0 0.4em 0.5em 0.4em;\n",
       "  box-sizing: border-box;\n",
       "  padding-bottom: 0.4em;\n",
       "  background-color: var(--sklearn-color-background);\n",
       "}\n",
       "\n",
       "#sk-container-id-1 div.sk-container {\n",
       "  /* jupyter's `normalize.less` sets `[hidden] { display: none; }`\n",
       "     but bootstrap.min.css set `[hidden] { display: none !important; }`\n",
       "     so we also need the `!important` here to be able to override the\n",
       "     default hidden behavior on the sphinx rendered scikit-learn.org.\n",
       "     See: https://github.com/scikit-learn/scikit-learn/issues/21755 */\n",
       "  display: inline-block !important;\n",
       "  position: relative;\n",
       "}\n",
       "\n",
       "#sk-container-id-1 div.sk-text-repr-fallback {\n",
       "  display: none;\n",
       "}\n",
       "\n",
       "div.sk-parallel-item,\n",
       "div.sk-serial,\n",
       "div.sk-item {\n",
       "  /* draw centered vertical line to link estimators */\n",
       "  background-image: linear-gradient(var(--sklearn-color-text-on-default-background), var(--sklearn-color-text-on-default-background));\n",
       "  background-size: 2px 100%;\n",
       "  background-repeat: no-repeat;\n",
       "  background-position: center center;\n",
       "}\n",
       "\n",
       "/* Parallel-specific style estimator block */\n",
       "\n",
       "#sk-container-id-1 div.sk-parallel-item::after {\n",
       "  content: \"\";\n",
       "  width: 100%;\n",
       "  border-bottom: 2px solid var(--sklearn-color-text-on-default-background);\n",
       "  flex-grow: 1;\n",
       "}\n",
       "\n",
       "#sk-container-id-1 div.sk-parallel {\n",
       "  display: flex;\n",
       "  align-items: stretch;\n",
       "  justify-content: center;\n",
       "  background-color: var(--sklearn-color-background);\n",
       "  position: relative;\n",
       "}\n",
       "\n",
       "#sk-container-id-1 div.sk-parallel-item {\n",
       "  display: flex;\n",
       "  flex-direction: column;\n",
       "}\n",
       "\n",
       "#sk-container-id-1 div.sk-parallel-item:first-child::after {\n",
       "  align-self: flex-end;\n",
       "  width: 50%;\n",
       "}\n",
       "\n",
       "#sk-container-id-1 div.sk-parallel-item:last-child::after {\n",
       "  align-self: flex-start;\n",
       "  width: 50%;\n",
       "}\n",
       "\n",
       "#sk-container-id-1 div.sk-parallel-item:only-child::after {\n",
       "  width: 0;\n",
       "}\n",
       "\n",
       "/* Serial-specific style estimator block */\n",
       "\n",
       "#sk-container-id-1 div.sk-serial {\n",
       "  display: flex;\n",
       "  flex-direction: column;\n",
       "  align-items: center;\n",
       "  background-color: var(--sklearn-color-background);\n",
       "  padding-right: 1em;\n",
       "  padding-left: 1em;\n",
       "}\n",
       "\n",
       "\n",
       "/* Toggleable style: style used for estimator/Pipeline/ColumnTransformer box that is\n",
       "clickable and can be expanded/collapsed.\n",
       "- Pipeline and ColumnTransformer use this feature and define the default style\n",
       "- Estimators will overwrite some part of the style using the `sk-estimator` class\n",
       "*/\n",
       "\n",
       "/* Pipeline and ColumnTransformer style (default) */\n",
       "\n",
       "#sk-container-id-1 div.sk-toggleable {\n",
       "  /* Default theme specific background. It is overwritten whether we have a\n",
       "  specific estimator or a Pipeline/ColumnTransformer */\n",
       "  background-color: var(--sklearn-color-background);\n",
       "}\n",
       "\n",
       "/* Toggleable label */\n",
       "#sk-container-id-1 label.sk-toggleable__label {\n",
       "  cursor: pointer;\n",
       "  display: flex;\n",
       "  width: 100%;\n",
       "  margin-bottom: 0;\n",
       "  padding: 0.5em;\n",
       "  box-sizing: border-box;\n",
       "  text-align: center;\n",
       "  align-items: start;\n",
       "  justify-content: space-between;\n",
       "  gap: 0.5em;\n",
       "}\n",
       "\n",
       "#sk-container-id-1 label.sk-toggleable__label .caption {\n",
       "  font-size: 0.6rem;\n",
       "  font-weight: lighter;\n",
       "  color: var(--sklearn-color-text-muted);\n",
       "}\n",
       "\n",
       "#sk-container-id-1 label.sk-toggleable__label-arrow:before {\n",
       "  /* Arrow on the left of the label */\n",
       "  content: \"▸\";\n",
       "  float: left;\n",
       "  margin-right: 0.25em;\n",
       "  color: var(--sklearn-color-icon);\n",
       "}\n",
       "\n",
       "#sk-container-id-1 label.sk-toggleable__label-arrow:hover:before {\n",
       "  color: var(--sklearn-color-text);\n",
       "}\n",
       "\n",
       "/* Toggleable content - dropdown */\n",
       "\n",
       "#sk-container-id-1 div.sk-toggleable__content {\n",
       "  max-height: 0;\n",
       "  max-width: 0;\n",
       "  overflow: hidden;\n",
       "  text-align: left;\n",
       "  /* unfitted */\n",
       "  background-color: var(--sklearn-color-unfitted-level-0);\n",
       "}\n",
       "\n",
       "#sk-container-id-1 div.sk-toggleable__content.fitted {\n",
       "  /* fitted */\n",
       "  background-color: var(--sklearn-color-fitted-level-0);\n",
       "}\n",
       "\n",
       "#sk-container-id-1 div.sk-toggleable__content pre {\n",
       "  margin: 0.2em;\n",
       "  border-radius: 0.25em;\n",
       "  color: var(--sklearn-color-text);\n",
       "  /* unfitted */\n",
       "  background-color: var(--sklearn-color-unfitted-level-0);\n",
       "}\n",
       "\n",
       "#sk-container-id-1 div.sk-toggleable__content.fitted pre {\n",
       "  /* unfitted */\n",
       "  background-color: var(--sklearn-color-fitted-level-0);\n",
       "}\n",
       "\n",
       "#sk-container-id-1 input.sk-toggleable__control:checked~div.sk-toggleable__content {\n",
       "  /* Expand drop-down */\n",
       "  max-height: 200px;\n",
       "  max-width: 100%;\n",
       "  overflow: auto;\n",
       "}\n",
       "\n",
       "#sk-container-id-1 input.sk-toggleable__control:checked~label.sk-toggleable__label-arrow:before {\n",
       "  content: \"▾\";\n",
       "}\n",
       "\n",
       "/* Pipeline/ColumnTransformer-specific style */\n",
       "\n",
       "#sk-container-id-1 div.sk-label input.sk-toggleable__control:checked~label.sk-toggleable__label {\n",
       "  color: var(--sklearn-color-text);\n",
       "  background-color: var(--sklearn-color-unfitted-level-2);\n",
       "}\n",
       "\n",
       "#sk-container-id-1 div.sk-label.fitted input.sk-toggleable__control:checked~label.sk-toggleable__label {\n",
       "  background-color: var(--sklearn-color-fitted-level-2);\n",
       "}\n",
       "\n",
       "/* Estimator-specific style */\n",
       "\n",
       "/* Colorize estimator box */\n",
       "#sk-container-id-1 div.sk-estimator input.sk-toggleable__control:checked~label.sk-toggleable__label {\n",
       "  /* unfitted */\n",
       "  background-color: var(--sklearn-color-unfitted-level-2);\n",
       "}\n",
       "\n",
       "#sk-container-id-1 div.sk-estimator.fitted input.sk-toggleable__control:checked~label.sk-toggleable__label {\n",
       "  /* fitted */\n",
       "  background-color: var(--sklearn-color-fitted-level-2);\n",
       "}\n",
       "\n",
       "#sk-container-id-1 div.sk-label label.sk-toggleable__label,\n",
       "#sk-container-id-1 div.sk-label label {\n",
       "  /* The background is the default theme color */\n",
       "  color: var(--sklearn-color-text-on-default-background);\n",
       "}\n",
       "\n",
       "/* On hover, darken the color of the background */\n",
       "#sk-container-id-1 div.sk-label:hover label.sk-toggleable__label {\n",
       "  color: var(--sklearn-color-text);\n",
       "  background-color: var(--sklearn-color-unfitted-level-2);\n",
       "}\n",
       "\n",
       "/* Label box, darken color on hover, fitted */\n",
       "#sk-container-id-1 div.sk-label.fitted:hover label.sk-toggleable__label.fitted {\n",
       "  color: var(--sklearn-color-text);\n",
       "  background-color: var(--sklearn-color-fitted-level-2);\n",
       "}\n",
       "\n",
       "/* Estimator label */\n",
       "\n",
       "#sk-container-id-1 div.sk-label label {\n",
       "  font-family: monospace;\n",
       "  font-weight: bold;\n",
       "  display: inline-block;\n",
       "  line-height: 1.2em;\n",
       "}\n",
       "\n",
       "#sk-container-id-1 div.sk-label-container {\n",
       "  text-align: center;\n",
       "}\n",
       "\n",
       "/* Estimator-specific */\n",
       "#sk-container-id-1 div.sk-estimator {\n",
       "  font-family: monospace;\n",
       "  border: 1px dotted var(--sklearn-color-border-box);\n",
       "  border-radius: 0.25em;\n",
       "  box-sizing: border-box;\n",
       "  margin-bottom: 0.5em;\n",
       "  /* unfitted */\n",
       "  background-color: var(--sklearn-color-unfitted-level-0);\n",
       "}\n",
       "\n",
       "#sk-container-id-1 div.sk-estimator.fitted {\n",
       "  /* fitted */\n",
       "  background-color: var(--sklearn-color-fitted-level-0);\n",
       "}\n",
       "\n",
       "/* on hover */\n",
       "#sk-container-id-1 div.sk-estimator:hover {\n",
       "  /* unfitted */\n",
       "  background-color: var(--sklearn-color-unfitted-level-2);\n",
       "}\n",
       "\n",
       "#sk-container-id-1 div.sk-estimator.fitted:hover {\n",
       "  /* fitted */\n",
       "  background-color: var(--sklearn-color-fitted-level-2);\n",
       "}\n",
       "\n",
       "/* Specification for estimator info (e.g. \"i\" and \"?\") */\n",
       "\n",
       "/* Common style for \"i\" and \"?\" */\n",
       "\n",
       ".sk-estimator-doc-link,\n",
       "a:link.sk-estimator-doc-link,\n",
       "a:visited.sk-estimator-doc-link {\n",
       "  float: right;\n",
       "  font-size: smaller;\n",
       "  line-height: 1em;\n",
       "  font-family: monospace;\n",
       "  background-color: var(--sklearn-color-background);\n",
       "  border-radius: 1em;\n",
       "  height: 1em;\n",
       "  width: 1em;\n",
       "  text-decoration: none !important;\n",
       "  margin-left: 0.5em;\n",
       "  text-align: center;\n",
       "  /* unfitted */\n",
       "  border: var(--sklearn-color-unfitted-level-1) 1pt solid;\n",
       "  color: var(--sklearn-color-unfitted-level-1);\n",
       "}\n",
       "\n",
       ".sk-estimator-doc-link.fitted,\n",
       "a:link.sk-estimator-doc-link.fitted,\n",
       "a:visited.sk-estimator-doc-link.fitted {\n",
       "  /* fitted */\n",
       "  border: var(--sklearn-color-fitted-level-1) 1pt solid;\n",
       "  color: var(--sklearn-color-fitted-level-1);\n",
       "}\n",
       "\n",
       "/* On hover */\n",
       "div.sk-estimator:hover .sk-estimator-doc-link:hover,\n",
       ".sk-estimator-doc-link:hover,\n",
       "div.sk-label-container:hover .sk-estimator-doc-link:hover,\n",
       ".sk-estimator-doc-link:hover {\n",
       "  /* unfitted */\n",
       "  background-color: var(--sklearn-color-unfitted-level-3);\n",
       "  color: var(--sklearn-color-background);\n",
       "  text-decoration: none;\n",
       "}\n",
       "\n",
       "div.sk-estimator.fitted:hover .sk-estimator-doc-link.fitted:hover,\n",
       ".sk-estimator-doc-link.fitted:hover,\n",
       "div.sk-label-container:hover .sk-estimator-doc-link.fitted:hover,\n",
       ".sk-estimator-doc-link.fitted:hover {\n",
       "  /* fitted */\n",
       "  background-color: var(--sklearn-color-fitted-level-3);\n",
       "  color: var(--sklearn-color-background);\n",
       "  text-decoration: none;\n",
       "}\n",
       "\n",
       "/* Span, style for the box shown on hovering the info icon */\n",
       ".sk-estimator-doc-link span {\n",
       "  display: none;\n",
       "  z-index: 9999;\n",
       "  position: relative;\n",
       "  font-weight: normal;\n",
       "  right: .2ex;\n",
       "  padding: .5ex;\n",
       "  margin: .5ex;\n",
       "  width: min-content;\n",
       "  min-width: 20ex;\n",
       "  max-width: 50ex;\n",
       "  color: var(--sklearn-color-text);\n",
       "  box-shadow: 2pt 2pt 4pt #999;\n",
       "  /* unfitted */\n",
       "  background: var(--sklearn-color-unfitted-level-0);\n",
       "  border: .5pt solid var(--sklearn-color-unfitted-level-3);\n",
       "}\n",
       "\n",
       ".sk-estimator-doc-link.fitted span {\n",
       "  /* fitted */\n",
       "  background: var(--sklearn-color-fitted-level-0);\n",
       "  border: var(--sklearn-color-fitted-level-3);\n",
       "}\n",
       "\n",
       ".sk-estimator-doc-link:hover span {\n",
       "  display: block;\n",
       "}\n",
       "\n",
       "/* \"?\"-specific style due to the `<a>` HTML tag */\n",
       "\n",
       "#sk-container-id-1 a.estimator_doc_link {\n",
       "  float: right;\n",
       "  font-size: 1rem;\n",
       "  line-height: 1em;\n",
       "  font-family: monospace;\n",
       "  background-color: var(--sklearn-color-background);\n",
       "  border-radius: 1rem;\n",
       "  height: 1rem;\n",
       "  width: 1rem;\n",
       "  text-decoration: none;\n",
       "  /* unfitted */\n",
       "  color: var(--sklearn-color-unfitted-level-1);\n",
       "  border: var(--sklearn-color-unfitted-level-1) 1pt solid;\n",
       "}\n",
       "\n",
       "#sk-container-id-1 a.estimator_doc_link.fitted {\n",
       "  /* fitted */\n",
       "  border: var(--sklearn-color-fitted-level-1) 1pt solid;\n",
       "  color: var(--sklearn-color-fitted-level-1);\n",
       "}\n",
       "\n",
       "/* On hover */\n",
       "#sk-container-id-1 a.estimator_doc_link:hover {\n",
       "  /* unfitted */\n",
       "  background-color: var(--sklearn-color-unfitted-level-3);\n",
       "  color: var(--sklearn-color-background);\n",
       "  text-decoration: none;\n",
       "}\n",
       "\n",
       "#sk-container-id-1 a.estimator_doc_link.fitted:hover {\n",
       "  /* fitted */\n",
       "  background-color: var(--sklearn-color-fitted-level-3);\n",
       "}\n",
       "</style><div id=\"sk-container-id-1\" class=\"sk-top-container\"><div class=\"sk-text-repr-fallback\"><pre>LinearRegression()</pre><b>In a Jupyter environment, please rerun this cell to show the HTML representation or trust the notebook. <br />On GitHub, the HTML representation is unable to render, please try loading this page with nbviewer.org.</b></div><div class=\"sk-container\" hidden><div class=\"sk-item\"><div class=\"sk-estimator fitted sk-toggleable\"><input class=\"sk-toggleable__control sk-hidden--visually\" id=\"sk-estimator-id-1\" type=\"checkbox\" checked><label for=\"sk-estimator-id-1\" class=\"sk-toggleable__label fitted sk-toggleable__label-arrow\"><div><div>LinearRegression</div></div><div><a class=\"sk-estimator-doc-link fitted\" rel=\"noreferrer\" target=\"_blank\" href=\"https://scikit-learn.org/1.6/modules/generated/sklearn.linear_model.LinearRegression.html\">?<span>Documentation for LinearRegression</span></a><span class=\"sk-estimator-doc-link fitted\">i<span>Fitted</span></span></div></label><div class=\"sk-toggleable__content fitted\"><pre>LinearRegression()</pre></div> </div></div></div></div>"
      ],
      "text/plain": [
       "LinearRegression()"
      ]
     },
     "execution_count": 11,
     "metadata": {},
     "output_type": "execute_result"
    }
   ],
   "source": [
    "regressor = LinearRegression()\n",
    "regressor.fit(X_train, y_train)"
   ]
  },
  {
   "cell_type": "markdown",
   "metadata": {
    "id": "hK6oKJ0FT95S"
   },
   "source": [
    "#Predicting results"
   ]
  },
  {
   "cell_type": "code",
   "execution_count": 12,
   "metadata": {
    "executionInfo": {
     "elapsed": 29,
     "status": "ok",
     "timestamp": 1738897999373,
     "user": {
      "displayName": "Grace Onuoha",
      "userId": "15835770623955301396"
     },
     "user_tz": -60
    },
    "id": "9NAUe4nkSY6b"
   },
   "outputs": [],
   "source": [
    "y_pred = regressor.predict(X_test)"
   ]
  },
  {
   "cell_type": "code",
   "execution_count": 13,
   "metadata": {
    "executionInfo": {
     "elapsed": 5,
     "status": "ok",
     "timestamp": 1738898000429,
     "user": {
      "displayName": "Grace Onuoha",
      "userId": "15835770623955301396"
     },
     "user_tz": -60
    },
    "id": "f6f4Onwcg40N"
   },
   "outputs": [],
   "source": [
    "years_experience_index = -1"
   ]
  },
  {
   "cell_type": "markdown",
   "metadata": {
    "id": "PDDYaJBXX7Dw"
   },
   "source": [
    "# Visualizing the training result\n",
    "\n",
    "\n",
    "\n"
   ]
  },
  {
   "cell_type": "code",
   "execution_count": 14,
   "metadata": {
    "colab": {
     "base_uri": "https://localhost:8080/",
     "height": 472
    },
    "executionInfo": {
     "elapsed": 749,
     "status": "ok",
     "timestamp": 1738898003159,
     "user": {
      "displayName": "Grace Onuoha",
      "userId": "15835770623955301396"
     },
     "user_tz": -60
    },
    "id": "IQYMNCYPYEV3",
    "outputId": "de2678a7-5233-461a-b120-74bb63cfd40e"
   },
   "outputs": [
    {
     "data": {
      "image/png": "[encoded data removed]",
      "text/plain": [
       "<Figure size 640x480 with 1 Axes>"
      ]
     },
     "metadata": {},
     "output_type": "display_data"
    }
   ],
   "source": [
    "plt.scatter(X_train[:, years_experience_index], y_train, color='red')\n",
    "plt.plot(X_train[:, years_experience_index], regressor.predict(X_train), color='blue')\n",
    "plt.title('Salary vs Experience (Training set)')\n",
    "plt.xlabel('Years of Experience')\n",
    "plt.ylabel('Salary')\n",
    "plt.show()"
   ]
  }
 ],
 "metadata": {
  "colab": {
   "authorship_tag": "ABX9TyMdF+puO+3ZLBqvGXpZXN22",
   "provenance": []
  },
  "kernelspec": {
   "display_name": "Python 3",
   "name": "python3"
  },
  "language_info": {
   "codemirror_mode": {
    "name": "ipython",
    "version": 3
   },
   "file_extension": ".py",
   "mimetype": "text/x-python",
   "name": "python",
   "nbconvert_exporter": "python",
   "pygments_lexer": "ipython3",
   "version": "3.9.6"
  }
 },
 "nbformat": 4,
 "nbformat_minor": 0
}
